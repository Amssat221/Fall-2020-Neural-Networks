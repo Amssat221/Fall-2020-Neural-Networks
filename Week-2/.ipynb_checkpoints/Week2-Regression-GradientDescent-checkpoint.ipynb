{
 "cells": [
  {
   "cell_type": "markdown",
   "metadata": {},
   "source": [
    "# Regression Problems\n",
    "\n",
    "**Regression problems** are problems where we try to predict a numerical output value given some input datapoint based on some examples of input datapoints that have known outputs.\n",
    "\n",
    "## Examples\n",
    "\n",
    "1. If we have a dataset of workers in a certain position of numbers of years of experience as an input and salary, we might want to predict salaries we don't know based on the years of experience a person has.\n",
    "\n",
    "1. If we have a dataset of variables about houses (floorspace, number of bedrooms, number of bathrooms, number of stories, age of the house) along with their selling prices, we might want to predict selling prices of homes not in the dataset based on the other variables about the house.\n",
    "\n",
    "1. If we have a dataset of variables about countries (average salary, average education of citizens, death rate, birth rate, infant mortality rate, etc.) along with their GDP, we might want to predict the GDP of countires not in the dataset based on the other variables about the country.\n",
    "\n",
    "1. If we have a dataset of seasonal variables about NBA basketball teams (points per game, turnovers per game, point differential, rebounds per game, blocks per game, etc.) and the numbers of wins they had in different seasons, we might want to take the statistics of a team early in a season to try to predict the number of wins they will have.\n",
    "\n",
    "## Types of Regression Problems\n",
    "\n",
    "There are different types of regression problems based on the numbers of input variables and output variables.\n",
    "\n",
    "* A **simple** regression problem predicts an output variable with just one input variable like Example 1.\n",
    "\n",
    "* A **multiple** regression problem predicts an output variable with more than one input variable like Examples 2 and 3.\n",
    "\n",
    "* A **multivariate** regression problem predicts more than one output variables\n",
    "\n",
    "We will not discuss multivariate regression this week, but we will show how neural networks can be used for these problems in the future.\n",
    "\n",
    "## The Math of a Regression Problem\n",
    "\n",
    "All of these regression problems have some things in common: there are example datapoints with outputs and we want to predict the outputs for new datapoints. Consider a $d$-dimensional point, or vector, $x_1\\in\\mathbb{R}^d$ and denote $x_1=(x_{11},x_{12},...,x_{1d})$. $x_1$ maps to an output $y_1\\in\\mathbb{R}$. We call the point $x_1$ an **example** and we call $y_1$ the **output** of $x_1$. (In statistics, the components of the vector $x_1$ are more frequently called **predictors** or **independent variables** and the $y_i$ values are more frequently called the **response** or **dependent variable**.)\n",
    "\n",
    "In a perfect world, a solution to a (univariate) regression problem will find a function $f:\\mathbb{R}^d\\to\\mathbb{R}$ that can do two things:\n",
    "\n",
    "1. Mapping each example $x_i$ in a dataset to its output $y_i=f(x_i)$\n",
    "1. Generalize to successfully predict outputs of new datapoints\n",
    "\n",
    "In reality, $f$ will not always map each input $x_i$ values to each $y_i$ value perfectly or generalize to new inputs perfectly, but we try to get as close to this ideal as possible.\n",
    "\n",
    "## Regression Algorithms\n",
    "\n",
    "There are a number of popular approaches to regression problems, including the following.\n",
    "\n",
    "* least squares regression\n",
    "* lasso regression\n",
    "* ridge regression\n",
    "* support vector machines\n",
    "* neural networks\n",
    "\n",
    "This week, we will consider the first three approaches as they are quite similar. As an added bonus, they all use a numerical optimization scheme called stochastic gradient descent, which is one of the main algorithms needed to make neural networks work.\n",
    "\n",
    "## Linear Regression\n",
    "\n",
    "We will assume the function $f$ we aim to predict is linear in some parameters $\\beta_0,...,\\beta_d$ so that our predicted function will be\n",
    "\n",
    "$$\n",
    "f(x_i)=\\beta_0 + \\sum\\limits_{k=1}^d \\beta_k x_{ik}=\\beta_0+\\beta_1 x_{i1}+\\cdots+\\beta_d x_{id}\n",
    "$$\n",
    "\n",
    "and we will try to choose $\\beta_0,...,\\beta_d$ that will minimize a loss function on a training dataset $(x_1,y_1),...,(x_n,y_n)$. This loss function will be small if each $f(x_i)$ is near each $y_i$, which is what we want\n",
    "\n",
    "### Note\n",
    "\n",
    "It is a common misconception that \"linear regression\" must fit linear functions to data, but the \"linear\" part of linear regression refers to the fact that $f$ is linear with respect to $\\beta_0,...,\\beta_d$, not with respect to $x_i$, so it is certainly possible to apply some preprocessing to the datapoints.\n",
    "\n",
    "For example, if each $x_i\\in\\mathbb{R}^1$, we can fit a parabola by manipulating each $x_i$ into $x_i^*=(x_i,x_i^2)$ so that our predicted function would be\n",
    "\n",
    "$$f(x_i)=\\beta_0+\\beta_1 x_i+\\beta_2 x_i^2.$$\n",
    "\n",
    "While we will discuss only $x=(x_1,...,x_d)$, keep in mind that we can always create new variables from the data, preprocess the data into different forms, and so on. This topics go beyond the scope of this course, but I want you to realize linear regression can learn to represent functions far beyond simply lines and planes."
   ]
  },
  {
   "cell_type": "markdown",
   "metadata": {},
   "source": [
    "## Linear Regression by Ordinary Least Squares\n",
    "\n",
    "Recall that we have a labeled dataset $(x_1,y_1)$, ..., $(x_n,y_n)$ with each $x_i\\in\\mathbb{R}^d$ and each $y_i\\in\\mathbb{R}$ and our goal is to find a function $f$ that maps the $x_i$'s to the $y_i$'s as well as possible, and, we hope, effective at mapping unknown datapoints to appropriate outputs.\n",
    "\n",
    "In the **ordinary least squares** method, we try to minimize a the **sum of squared differences** between the real outputs $y_1, ..., y_n$ and the predicted outputs $f(x_1)$, ..., $f(x_n)$. In other words, the loss function in this method is\n",
    "\n",
    "$$L(X, y, \\beta)=\\sum\\limits_{i=1}^n \\left(f(x_i)-y_i\\right)^2,$$\n",
    "\n",
    "which we will call a **loss function**, where\n",
    "\n",
    "$$\n",
    "X=\\begin{pmatrix}\n",
    "1 & x_{11} & x_{12} & \\cdots & x_{1d}\\\\\n",
    "1 & x_{21} & x_{22} & \\cdots & x_{2d}\\\\\n",
    "\\vdots & \\vdots & \\vdots & \\ddots & \\vdots\\\\\n",
    "1 & x_{n1} & x_{n2} & \\cdots & x_{nd}\n",
    "\\end{pmatrix}\n",
    "\\hspace{2cm}y=\\begin{pmatrix}\n",
    "y_1 \\\\ y_2 \\\\ \\vdots \\\\ y_n\n",
    "\\end{pmatrix}\n",
    "\\hspace{2cm}\\beta=\\begin{pmatrix}\n",
    "\\beta_0 \\\\ \\beta_1 \\\\ \\vdots \\\\ \\beta_d\n",
    "\\end{pmatrix}\n",
    "$$\n",
    "\n",
    "This matrix is the same as what we used with classification problems except we added a column of ones to the left. Each row is a datapoint $x_i\\in\\mathbb{R}^d$ representing one example and each column represents one variable (also known as a predictor or a feature). Given this, we can rewrite the loss function as\n",
    "\n",
    "$$L(X, y, \\beta)=\\|X\\beta-y\\|^2_2=(X\\beta-y)^T(X\\beta-y),$$\n",
    "\n",
    "where the $T$ subscript represents the **transpose** of a matrix. Here, $X$ and $y$ are constants derived from the dataset, so the $\\beta$ values are the only unknowns, so we need to find the $\\beta$ values that minimize the loss function $L$.\n",
    "\n",
    "In multivariate calculus, the approach to minimize a differentiable function is to take derivatives with respect to $\\beta_0, ..., \\beta_d$, set them all equal to zero, and solve. This may seem difficult, but we can actually do it for ordinary least squares. Before we take derivatives, let's convert the los function into a (longer but) simpler form. Transposes can be applied to sums of matrices separately, so\n",
    "\n",
    "$$L(X,y,\\beta)=((X\\beta)^T-y^T)(X\\beta-y).$$\n",
    "\n",
    "Using the distributive property of matrix multiplication,\n",
    "\n",
    "$$L(X,y,\\beta)=(X\\beta)^T X\\beta-(X\\beta)^T y-y^T X\\beta+y^T y$$\n",
    "\n",
    "If we realize $y$ and $X\\beta$ are both matrices of shape $n\\times 1$, then we should have $(X\\beta)^T y=y^T X\\beta$, so the loss function is\n",
    "\n",
    "$$L(X,y,\\beta)=(X\\beta)^T X\\beta-2(X\\beta)^T y+y^T y$$\n",
    "\n",
    "Since $(AB)^T=B^TA^T$ for matrices, we can simplify the terms as\n",
    "\n",
    "$$L(X,y,\\beta)=\\beta^T X^T X\\beta-2\\beta^T X^T y+y^T y$$\n",
    "\n",
    "Now, of course, this is a scalar (because, in the end, the loss is just a number--the sum of squared errors), so we can take the derivatives with respect to $\\beta_1$, ..., $\\beta_d$ and put those into a vector as\n",
    "\n",
    "$$\\frac{\\partial L}{\\partial \\beta}=2X^T X\\beta-2X^T y$$\n",
    "\n",
    "As in multivariate calculus, we set this whole vector equal to 0 and solve for the estimated version of $\\beta$ as\n",
    "\n",
    "$$\n",
    "\\begin{align*}\n",
    "2X^T X\\beta-2X^T y &= 0\\\\\n",
    "X^T X\\beta &= X^T y.\n",
    "\\end{align*}\n",
    "$$\n",
    "\n",
    "Then, if $X^T X$ is an invertible matrix, then we can multiply both sides of the equation by its inverse to solve for $\\beta$\n",
    "\n",
    "$$\n",
    "\\begin{align*}\n",
    "(X^T X)^{-1}(X^T X\\beta &= (X^T X)^{-1}X^T y\\\\\n",
    "\\beta &=(X^T X)^{-1}X^T y.\n",
    "\\end{align*}\n",
    "$$\n",
    "\n",
    "At long last, we have a formula for the exact solution for the $\\beta$ values that minimize the loss function.\n",
    "\n",
    "This does not look so nice to do by hand since it requires a matrix multiplication, a matrix inverse, and two more matrix multiplications, but a computer can complete these tasks quickly. (The best algorithms for matrix multiplication and matrix inverses for $n\\times n$ matrices each have computational complexity less than $O(n^3)$, so doing a few of these is no problem, even for quite large matrices.)\n",
    "\n",
    "Before we write some code for ordinary least squares, let's import some packages."
   ]
  },
  {
   "cell_type": "code",
   "execution_count": 2,
   "metadata": {},
   "outputs": [],
   "source": [
    "import numpy as np\n",
    "from sklearn.metrics import mean_squared_error\n",
    "from sklearn.metrics import mean_absolute_error\n",
    "from sklearn.metrics import r2_score\n",
    "from sklearn.model_selection import train_test_split\n",
    "import matplotlib.pyplot as plt\n",
    "import pandas\n",
    "\n",
    "# increase the width of boxes in the notebook file (this is only cosmetic)\n",
    "np.set_printoptions(linewidth=180)"
   ]
  },
  {
   "cell_type": "markdown",
   "metadata": {},
   "source": [
    "Let's create a class for using ordinary least squares in this way to fit the model and to predict outputs for unknown inputs. We will use the scikit-learn pattern."
   ]
  },
  {
   "cell_type": "code",
   "execution_count": 58,
   "metadata": {},
   "outputs": [],
   "source": [
    "class OrdinaryLeastSquaresExact:\n",
    "        \n",
    "    # fit the model to the data\n",
    "    def fit(self, X, y):\n",
    "        # save the training data\n",
    "        self.data = np.hstack((np.ones([X.shape[0],1]), X))\n",
    "        \n",
    "        # save the training labels\n",
    "        self.outputs = y\n",
    "        \n",
    "        # find the beta values that minimize the sum of squared errors\n",
    "        X = self.data\n",
    "        self.beta = np.linalg.inv(X.T @ X) @ X.T @ y\n",
    "                \n",
    "    # predict the output from testing data\n",
    "    def predict(self, X):\n",
    "        # initialize an empty matrix to store the predictedoutputs\n",
    "        yPredicted = np.empty([X.shape[0],1])\n",
    "        \n",
    "        # append a column of ones at the beginning of X\n",
    "        X = np.hstack((np.ones([X.shape[0],1]), X))\n",
    "        \n",
    "        # apply the function f with the values of beta from the fit function to each testing datapoint (rows of X)\n",
    "        for row in range(X.shape[0]):\n",
    "            yPredicted[row] = self.beta @ X[row,]\n",
    "            \n",
    "        return yPredicted"
   ]
  },
  {
   "cell_type": "code",
   "execution_count": 62,
   "metadata": {},
   "outputs": [
    {
     "name": "stdout",
     "output_type": "stream",
     "text": [
      "The predicted y values are [1.84615385 2.38461538 2.92307692 3.46153846 2.38461538]\n",
      "The real y values are [1 2 3 3 4]\n",
      "The beta values are [-1.38461538  0.53846154]\n",
      "The r^2 score is 0.289940828402367\n",
      "The mean squared error is 0.7384615384615385\n",
      "The mean absolute error is 0.6769230769230757\n"
     ]
    }
   ],
   "source": [
    "X = np.array([[6], [7], [8], [9], [7]])\n",
    "y = np.array([1, 2, 3, 3, 4])\n",
    "\n",
    "model = OrdinaryLeastSquaresExact()\n",
    "model.fit(X,y)\n",
    "predictions = model.predict(X)\n",
    "\n",
    "# print the predictions\n",
    "print('The predicted y values are', predictions.T[0])\n",
    "\n",
    "# print the real y values\n",
    "print('The real y values are', y)\n",
    "\n",
    "# print the beta values\n",
    "print('The beta values are', model.beta)\n",
    "\n",
    "# return quality metrics\n",
    "print('The r^2 score is', r2_score(y, predictions))\n",
    "print('The mean squared error is', mean_squared_error(y, predictions))\n",
    "print('The mean absolute error is', mean_absolute_error(y, predictions))"
   ]
  },
  {
   "cell_type": "markdown",
   "metadata": {},
   "source": [
    "## 2D Example\n",
    "\n",
    "Let's make up some data and test to see if our method works well."
   ]
  },
  {
   "cell_type": "code",
   "execution_count": 63,
   "metadata": {},
   "outputs": [
    {
     "name": "stdout",
     "output_type": "stream",
     "text": [
      "The r^2 score is 0.9642679900744415\n",
      "The predicted y values for the test set are [-6.52 19.08  6.6  32.2 ]\n",
      "The real y values for the test set are [ 9 15 25 31]\n",
      "The beta values are [-3.56 -6.24  9.52]\n",
      "The mean squared error on the test set is 149.3792000000069\n",
      "The mean absolute error on the test set is 9.799999999999962\n"
     ]
    }
   ],
   "source": [
    "trainX = np.array([[2, 2], [2, 3], [5, 6], [6, 7], [9, 10]])\n",
    "trainY = np.array([3, 13, 19, 29, 35])\n",
    "\n",
    "testX = np.array([[2, 1], [4, 5], [6, 5], [8, 9]])\n",
    "testY = np.array([9, 15, 25, 31])\n",
    "\n",
    "# instantiate an OLS model\n",
    "model = OrdinaryLeastSquaresExact()\n",
    "\n",
    "# fit the model to the training data (find the beta parameters)\n",
    "model.fit(trainX, trainY)\n",
    "\n",
    "# print the coefficient of determination r^2\n",
    "print('The r^2 score is', r2_score(trainY, model.predict(trainX)))\n",
    "\n",
    "# return the predicted outputs for the datapoints in the test set\n",
    "predictions = model.predict(testX)\n",
    "\n",
    "# print the predictions\n",
    "print('The predicted y values for the test set are', predictions.T[0])\n",
    "\n",
    "# print the real y values\n",
    "print('The real y values for the test set are', testY)\n",
    "\n",
    "# print the beta values\n",
    "print('The beta values are', model.beta)\n",
    "\n",
    "# return quality metrics\n",
    "print('The mean squared error on the test set is', mean_squared_error(testY, predictions))\n",
    "print('The mean absolute error on the test set is', mean_absolute_error(testY, predictions))"
   ]
  },
  {
   "cell_type": "code",
   "execution_count": 67,
   "metadata": {},
   "outputs": [
    {
     "data": {
      "text/plain": [
       "Text(0.5, 0, 'y')"
      ]
     },
     "execution_count": 67,
     "metadata": {},
     "output_type": "execute_result"
    },
    {
     "data": {
      "image/png": "[encoded data removed]",
      "text/plain": [
       "<Figure size 432x288 with 1 Axes>"
      ]
     },
     "metadata": {
      "needs_background": "light"
     },
     "output_type": "display_data"
    }
   ],
   "source": [
    "fig = plt.figure()\n",
    "ax = fig.add_subplot(111, projection='3d')\n",
    "\n",
    "n = 100\n",
    "\n",
    "# scatter plot of the test data\n",
    "x1 = testX[:,0]\n",
    "x2 = testX[:,1]\n",
    "y = testY\n",
    "ax.scatter(x1, x2, y, marker = 'o')\n",
    "\n",
    "# scatter plot of the training data\n",
    "x1 = trainX[:,0]\n",
    "x2 = trainX[:,1]\n",
    "y = trainY\n",
    "ax.scatter(x1, x2, y, marker = '^')\n",
    "\n",
    "# plot the plane we fit to the data\n",
    "beta = model.beta\n",
    "\n",
    "# surface plot\n",
    "x1 = np.linspace(0,10,10)\n",
    "x2 = np.linspace(0,10,10)\n",
    "\n",
    "X1, X2 = np.meshgrid(x1,x2)\n",
    "#Y = beta[0]*X1 + beta[1]*X2\n",
    "Y = beta[0] + beta[1]*X1 + beta[2]*X2\n",
    "\n",
    "surf = ax.plot_wireframe(X1, X2, Y)\n",
    "ax.view_init(30, 200)\n",
    "\n",
    "# add axis labels\n",
    "ax.set_xlabel('x_1')\n",
    "ax.set_ylabel('x_2')\n",
    "ax.set_zlabel('y')"
   ]
  },
  {
   "cell_type": "markdown",
   "metadata": {},
   "source": [
    "### Example: High School Graduation Rates in US States\n",
    "\n",
    "Let's try to use ordinary least squares on a real dataset. The CSV file in '/data/US_State_data.csv' contains data from each U.S. state.\n",
    "\n",
    "We would like to predict the output variable included, the high school graduation rate, from some input variables: including the crime rate (per 100,000 persons), the violent crime rate (per 100,000 persons), average teacher salary, student-to-teacher ratio, education expenditure per student, population density, and median household income.\n",
    "\n",
    "This means we have 50 examples (one for each state), 7 input (predictor) variables, and one output (response) variable. In order to use the formula we derived above to attack the problem with ordinary least squares, we need to find the matrices $X$ and $y$."
   ]
  },
  {
   "cell_type": "code",
   "execution_count": 69,
   "metadata": {},
   "outputs": [
    {
     "name": "stdout",
     "output_type": "stream",
     "text": [
      "The r^2 score is 0.3921626378110833\n",
      "The predicted y values for the test set are [80.17803843 79.79067411 89.40955118 88.8730442  80.40077882 80.70892793 84.99070304 93.45167122 74.81186463 83.70288072 84.25027504 79.18160877 82.58870478]\n",
      "The real y values for the test set are [70. 83. 83. 81. 76. 87. 89. 89. 78. 78. 84. 80. 79.]\n",
      "The beta values are [ 1.16286460e+02 -6.09008374e-03  3.98286852e-03 -1.63697058e-04 -2.97328939e-01 -4.74750536e-04  1.09164594e-02]\n",
      "The mean squared error on the test set is 28.314919261809344\n",
      "The mean absolute error on the test set is 4.64393583870603\n"
     ]
    }
   ],
   "source": [
    "# import the data from the csv file to an numpy array\n",
    "data = pandas.read_csv('data/US_State_Data.csv', sep=',').to_numpy()\n",
    "#print(data)\n",
    "X = np.array(data[:,1:7], dtype=float)\n",
    "y = np.array(data[:,8], dtype=float)\n",
    "\n",
    "# split the data into training and test sets\n",
    "(trainX, testX, trainY, testY) = train_test_split(X, y, test_size = 0.25, random_state = 1)\n",
    "\n",
    "# run the model (same code as above)\n",
    "\n",
    "# instantiate an OLS model\n",
    "model = OrdinaryLeastSquaresExact()\n",
    "\n",
    "# fit the model to the training data (find the beta parameters)\n",
    "model.fit(trainX, trainY)\n",
    "\n",
    "# print the coefficient of determination r^2\n",
    "print('The r^2 score is', r2_score(trainY, model.predict(trainX)))\n",
    "\n",
    "# return the predicted outputs for the datapoints in the test set\n",
    "predictions = model.predict(testX)\n",
    "\n",
    "# print the predictions\n",
    "print('The predicted y values for the test set are', predictions.T[0])\n",
    "\n",
    "# print the real y values\n",
    "print('The real y values for the test set are', testY)\n",
    "\n",
    "# print the beta values\n",
    "print('The beta values are', model.beta)\n",
    "\n",
    "# return quality metrics\n",
    "print('The mean squared error on the test set is', mean_squared_error(testY, predictions))\n",
    "print('The mean absolute error on the test set is', mean_absolute_error(testY, predictions))"
   ]
  },
  {
   "cell_type": "code",
   "execution_count": null,
   "metadata": {},
   "outputs": [],
   "source": [
    "## Ordinary Least Squares by Stochastic Gradient Descent"
   ]
  },
  {
   "cell_type": "markdown",
   "metadata": {},
   "source": [
    "## Ridge Regression"
   ]
  },
  {
   "cell_type": "markdown",
   "metadata": {},
   "source": [
    "## Lasso Regression"
   ]
  },
  {
   "cell_type": "code",
   "execution_count": null,
   "metadata": {},
   "outputs": [],
   "source": []
  }
 ],
 "metadata": {
  "kernelspec": {
   "display_name": "Python 3.7 (DL)",
   "language": "python",
   "name": "dl"
  },
  "language_info": {
   "codemirror_mode": {
    "name": "ipython",
    "version": 3
   },
   "file_extension": ".py",
   "mimetype": "text/x-python",
   "name": "python",
   "nbconvert_exporter": "python",
   "pygments_lexer": "ipython3",
   "version": "3.7.7"
  }
 },
 "nbformat": 4,
 "nbformat_minor": 4
}
