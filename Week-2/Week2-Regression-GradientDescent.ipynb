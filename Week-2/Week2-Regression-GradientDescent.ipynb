{
 "cells": [
  {
   "cell_type": "markdown",
   "metadata": {},
   "source": [
    "# Regression Problems\n",
    "\n",
    "**Regression problems** are problems where we try to predict a numerical output value given some input datapoint based on some examples of input datapoints that have known outputs.\n",
    "\n",
    "## Examples\n",
    "\n",
    "1. If we have a dataset of workers in a certain position of numbers of years of experience as an input and salary, we might want to predict salaries we don't know based on the years of experience a person has.\n",
    "\n",
    "1. If we have a dataset of variables about houses (floorspace, number of bedrooms, number of bathrooms, number of stories, age of the house) along with their selling prices, we might want to predict selling prices of homes not in the dataset based on the other variables about the house.\n",
    "\n",
    "1. If we have a dataset of variables about countries (average salary, average education of citizens, death rate, birth rate, infant mortality rate, etc.) along with their GDP, we might want to predict the GDP of countires not in the dataset based on the other variables about the country.\n",
    "\n",
    "1. If we have a dataset of seasonal variables about NBA basketball teams (points per game, turnovers per game, point differential, rebounds per game, blocks per game, etc.) and the numbers of wins they had in different seasons, we might want to take the statistics of a team early in a season to try to predict the number of wins they will have.\n",
    "\n",
    "## Types of Regression Problems\n",
    "\n",
    "There are different types of regression problems based on the numbers of input variables and output variables.\n",
    "\n",
    "* A **simple** regression problem predicts an output variable with just one input variable like Example 1.\n",
    "\n",
    "* A **multiple** regression problem predicts an output variable with more than one input variable like Examples 2 and 3.\n",
    "\n",
    "* A **multivariate** regression problem predicts more than one output variables\n",
    "\n",
    "We will not discuss multivariate regression this week, but we will show how neural networks can be used for these problems in the future.\n",
    "\n",
    "## The Math of a Regression Problem\n",
    "\n",
    "All of these regression problems have some things in common: there are example datapoints with outputs and we want to predict the outputs for new datapoints. Consider a $d$-dimensional point, or vector, $x\\in\\mathbb{R}^d$ and denote $x=(x_{1},x_{2},...,x_{d})$. $x$ maps to an output $y\\in\\mathbb{R}$. We call the point $x$ an **example** and we call the class the **output** of $x$.\n",
    "\n",
    "The goal of a (single variable) regression is to find a function $f:\\mathbb{R}^d\\to\\mathbb{R}$ mapping each example $x$ to its output $y=f(x)$ and generalize to successfully predict outputs of new datapoints.\n",
    "\n",
    "## Regression Algorithms\n",
    "\n",
    "There are a number of popular approaches to regression problems, including the following.\n",
    "\n",
    "* least squares regression\n",
    "* lasso regression\n",
    "* ridge regression\n",
    "* support vector machines\n",
    "* neural networks\n",
    "\n",
    "This week, we will consider the first three approaches as they are quite similar. Support vector machines are also effective options in some scenarios, but they are beyond the scope of this class. We will, of course, see lots of neural networks in the future."
   ]
  },
  {
   "cell_type": "markdown",
   "metadata": {},
   "source": [
    "## Linear Regression\n",
    "\n",
    "We will assume the function $f$ we aim to predict is linear in some parameters $\\beta_0,...,\\beta_d$ so that our predicted function will be\n",
    "\n",
    "$$\n",
    "\\begin{align*}\n",
    "f(x)&=\\beta_0 + \\sum\\limits_{i=1}^d \\beta_i f_i(x)=\\beta_0f_0(x)+\\beta_1f_1(x)+\\cdots+\\beta_df_d(x)\n",
    "\\end{align*}\n",
    "$$\n",
    "\n",
    "for some real-valued functions $f_1, ..., f_d$."
   ]
  },
  {
   "cell_type": "code",
   "execution_count": null,
   "metadata": {},
   "outputs": [],
   "source": []
  }
 ],
 "metadata": {
  "kernelspec": {
   "display_name": "Python 3.7 (DL)",
   "language": "python",
   "name": "dl"
  },
  "language_info": {
   "codemirror_mode": {
    "name": "ipython",
    "version": 3
   },
   "file_extension": ".py",
   "mimetype": "text/x-python",
   "name": "python",
   "nbconvert_exporter": "python",
   "pygments_lexer": "ipython3",
   "version": "3.7.7"
  }
 },
 "nbformat": 4,
 "nbformat_minor": 4
}
